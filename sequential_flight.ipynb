{
 "cells": [
  {
   "cell_type": "code",
   "execution_count": 5,
   "id": "legal-marina",
   "metadata": {},
   "outputs": [
    {
     "name": "stdout",
     "output_type": "stream",
     "text": [
      "Logs/TLog.txt\n"
     ]
    }
   ],
   "source": [
    "from udacidrone import Drone\n",
    "from udacidrone.connection import MavlinkConnection\n",
    "\n",
    "conn = MavlinkConnection('tcp:127.0.0.1:5760', threaded=True)\n",
    "drone = Drone(conn)"
   ]
  },
  {
   "cell_type": "code",
   "execution_count": 6,
   "id": "julian-recruitment",
   "metadata": {},
   "outputs": [],
   "source": [
    "# connect to drone\n",
    "drone.start()"
   ]
  },
  {
   "cell_type": "code",
   "execution_count": 7,
   "id": "mexican-archives",
   "metadata": {},
   "outputs": [],
   "source": [
    "# the previous command can only be run once\n",
    "# error msg is \"threads can only be started once\"\n",
    "# if encountered, exit (ESC) and reenter the \n",
    "# simulator"
   ]
  },
  {
   "cell_type": "code",
   "execution_count": 8,
   "id": "respected-adams",
   "metadata": {},
   "outputs": [],
   "source": [
    "# enter guided mode\n",
    "drone.take_control()"
   ]
  },
  {
   "cell_type": "code",
   "execution_count": 9,
   "id": "refined-astrology",
   "metadata": {},
   "outputs": [],
   "source": [
    "# arm (enable motors)\n",
    "drone.arm()"
   ]
  },
  {
   "cell_type": "code",
   "execution_count": 10,
   "id": "postal-gauge",
   "metadata": {},
   "outputs": [],
   "source": [
    "drone.set_home_position(drone.global_position[0],\n",
    "                        drone.global_position[1],\n",
    "                        drone.global_position[2])"
   ]
  },
  {
   "cell_type": "code",
   "execution_count": 11,
   "id": "disciplinary-arena",
   "metadata": {},
   "outputs": [],
   "source": [
    "drone.takeoff(3)  # 3 meters altitude above local ground"
   ]
  },
  {
   "cell_type": "code",
   "execution_count": 12,
   "id": "fewer-liquid",
   "metadata": {},
   "outputs": [],
   "source": [
    "drone.cmd_position(5, 0, 3, 0)"
   ]
  },
  {
   "cell_type": "code",
   "execution_count": 13,
   "id": "offshore-hurricane",
   "metadata": {},
   "outputs": [],
   "source": [
    "drone.cmd_position(0, 0, -3, 0)  # this will put it on the ground at the home position)"
   ]
  },
  {
   "cell_type": "code",
   "execution_count": 16,
   "id": "internal-bobby",
   "metadata": {},
   "outputs": [],
   "source": [
    "import time\n",
    "\n",
    "square = [\n",
    "    (10, 0, 5, 0),\n",
    "    (10, 10, 5, 0),\n",
    "    (0, 10, 5, 0),\n",
    "    (0, 0, 5, 0)\n",
    "]\n",
    "\n",
    "drone.takeoff(5)"
   ]
  },
  {
   "cell_type": "code",
   "execution_count": 17,
   "id": "whole-ribbon",
   "metadata": {},
   "outputs": [],
   "source": [
    "for corner in square:\n",
    "    drone.cmd_position(*corner)\n",
    "    time.sleep(3)"
   ]
  },
  {
   "cell_type": "code",
   "execution_count": 19,
   "id": "bright-evidence",
   "metadata": {},
   "outputs": [
    {
     "name": "stdout",
     "output_type": "stream",
     "text": [
      "Closing connection ...\n"
     ]
    }
   ],
   "source": [
    "# cut connection\n",
    "drone.stop()"
   ]
  },
  {
   "cell_type": "code",
   "execution_count": 20,
   "id": "seasonal-surrey",
   "metadata": {},
   "outputs": [],
   "source": [
    "# NO MORE COMMANDS after drone.stop()\n",
    "# and drone.start() cannot be used \n",
    "# to reestablish connection\n",
    "drone.land()"
   ]
  }
 ],
 "metadata": {
  "kernelspec": {
   "display_name": "Python 3",
   "language": "python",
   "name": "python3"
  },
  "language_info": {
   "codemirror_mode": {
    "name": "ipython",
    "version": 3
   },
   "file_extension": ".py",
   "mimetype": "text/x-python",
   "name": "python",
   "nbconvert_exporter": "python",
   "pygments_lexer": "ipython3",
   "version": "3.6.3"
  }
 },
 "nbformat": 4,
 "nbformat_minor": 5
}
